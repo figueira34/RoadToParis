{
 "cells": [
  {
   "cell_type": "code",
   "execution_count": 94,
   "metadata": {},
   "outputs": [],
   "source": [
    "import time\n",
    "\n",
    "import pandas as pd\n",
    "\n",
    "from selenium import webdriver\n",
    "from selenium.webdriver.chrome.service import Service\n",
    "from selenium.webdriver.common.by import By\n",
    "from selenium.webdriver.support.ui import Select, WebDriverWait\n",
    "from webdriver_manager.chrome import ChromeDriverManager"
   ]
  },
  {
   "cell_type": "code",
   "execution_count": 95,
   "metadata": {},
   "outputs": [],
   "source": [
    "# Teams\n",
    "Brazil = \"https://www.proballers.com/basketball/team/1651/brazil\"\n",
    "France = 'https://www.proballers.com/basketball/team/196/france'\n",
    "Germany = 'https://www.proballers.com/basketball/team/198/germany'\n",
    "Japan = 'https://www.proballers.com/basketball/team/1652/japan'"
   ]
  },
  {
   "cell_type": "code",
   "execution_count": 96,
   "metadata": {},
   "outputs": [],
   "source": [
    "# Setup Chrome WebDriver\n",
    "service = Service(ChromeDriverManager().install())\n",
    "driver = webdriver.Chrome(service=service)"
   ]
  },
  {
   "cell_type": "code",
   "execution_count": 97,
   "metadata": {},
   "outputs": [],
   "source": [
    "# First Team\n",
    "driver.get(France)"
   ]
  },
  {
   "cell_type": "code",
   "execution_count": 98,
   "metadata": {},
   "outputs": [],
   "source": [
    "# Navigate throug page\n",
    "# Schedule -> Preparation\n",
    "driver.find_element(By.XPATH, '/html/body/main/div/div[2]/div/section[2]/div/ul/li[2]/a').click()\n",
    "driver.find_element(By.XPATH, '//*[@id=\"league-Preparation-list\"]').click()"
   ]
  },
  {
   "cell_type": "code",
   "execution_count": 99,
   "metadata": {},
   "outputs": [],
   "source": [
    "# Wait\n",
    "time.sleep(5)"
   ]
  },
  {
   "cell_type": "code",
   "execution_count": 100,
   "metadata": {},
   "outputs": [],
   "source": [
    "# Game 1\n",
    "driver.find_element(By.XPATH, '//*[@id=\"league-370\"]/div[1]/div/table/tbody/tr[1]/td[4]/a').click()"
   ]
  },
  {
   "cell_type": "code",
   "execution_count": 101,
   "metadata": {},
   "outputs": [],
   "source": [
    "# Create DataFrame for first team\n",
    "table = driver.find_element(By.XPATH, '/html/body/main/div/div[2]/div[3]/div/div[1]/div/div/div/div')\n",
    "headers = [header.text for header in table.find_elements(By.TAG_NAME, 'th')]\n",
    "rows = [[cell.text for cell in row.find_elements(By.TAG_NAME, 'td')] \n",
    "            for row in table.find_elements(By.TAG_NAME, 'tr') if row.find_elements(By.TAG_NAME, 'td')]\n",
    "df1 = pd.DataFrame(rows, columns=headers)"
   ]
  },
  {
   "cell_type": "code",
   "execution_count": 102,
   "metadata": {},
   "outputs": [],
   "source": [
    "# Drop the totals\n",
    "df1.drop(df1.tail(1).index,\n",
    "        inplace = True)\n",
    "\n",
    "# Split shots made from attempted\n",
    "df1[['2PM', '2PA']] = df1['2M-2A'].str.split('-', expand=True)\n",
    "df1[['3PM', '3PA']] = df1['3M-3A'].str.split('-', expand=True)\n",
    "df1[['FTM', 'FTA']] = df1['1M-1A'].str.split('-', expand=True)\n",
    "df1.drop(columns=['2M-2A', '3M-3A', '1M-1A', 'FG%', '1%'], inplace=True)"
   ]
  },
  {
   "cell_type": "code",
   "execution_count": 103,
   "metadata": {},
   "outputs": [],
   "source": [
    "# Change types into integers\n",
    "for col in df1.columns:\n",
    "    if col != 'PLAYER':\n",
    "        df1[col] = df1[col].astype(int)"
   ]
  },
  {
   "cell_type": "code",
   "execution_count": 104,
   "metadata": {},
   "outputs": [],
   "source": [
    "#Create Fild Goal colums\n",
    "df1['FGM'] = df1['2PM'] + df1['3PM']\n",
    "df1['FGA'] = df1['2PA'] + df1['3PA']\n",
    "\n",
    "# Create percentage columns\n",
    "df1['FG%'] = df1['FGM'].div(df1['FGA'], fill_value=0).fillna(0).round(2) * 100\n",
    "df1['2P%'] = df1['2PM'].div(df1['2PA'], fill_value=0).fillna(0).round(2) * 100\n",
    "df1['3P%'] = df1['3PM'].div(df1['3PA'], fill_value=0).fillna(0).round(2) * 100\n",
    "df1['FT%'] = df1['FTM'].div(df1['FTA'], fill_value=0).fillna(0).round(2) * 100"
   ]
  },
  {
   "cell_type": "code",
   "execution_count": 105,
   "metadata": {},
   "outputs": [],
   "source": [
    "# Drop duplicated columns\n",
    "df1 = df1.loc[:, ~df1.columns.duplicated()]"
   ]
  },
  {
   "cell_type": "code",
   "execution_count": 106,
   "metadata": {},
   "outputs": [],
   "source": [
    "# Add the Team Name and the Game ID\n",
    "df1['TEAM'] = driver.find_element(By.XPATH, '/html/body/main/div/div[2]/div[3]/div/div[1]/div/div/a/h3').accessible_name\n",
    "df1['GAME'] = 'FRA1'"
   ]
  },
  {
   "cell_type": "code",
   "execution_count": 107,
   "metadata": {},
   "outputs": [],
   "source": [
    "# Reorder the Dataframe\n",
    "df1 = df1[['GAME' ,'TEAM', 'PLAYER', 'MIN', 'PTS', 'REB', 'AST', 'STL', 'BLK', 'TO', 'FO', 'FGM', 'FGA', 'FG%', '2PM', '2PA', '2P%', '3PM', '3PA', '3P%', 'FTM', 'FTA', 'FT%', 'OR', 'DR', '+/-', 'EFF']]"
   ]
  },
  {
   "cell_type": "code",
   "execution_count": 108,
   "metadata": {},
   "outputs": [],
   "source": [
    "# Create DataFrame for second team\n",
    "table = driver.find_element(By.XPATH, '/html/body/main/div/div[2]/div[3]/div/div[2]/div/div/div/div')\n",
    "headers = [header.text for header in table.find_elements(By.TAG_NAME, 'th')]\n",
    "rows = [[cell.text for cell in row.find_elements(By.TAG_NAME, 'td')] \n",
    "            for row in table.find_elements(By.TAG_NAME, 'tr') if row.find_elements(By.TAG_NAME, 'td')]\n",
    "df2 = pd.DataFrame(rows, columns=headers)"
   ]
  },
  {
   "cell_type": "code",
   "execution_count": 109,
   "metadata": {},
   "outputs": [],
   "source": [
    "# Drop the totals\n",
    "df2.drop(df2.tail(1).index,\n",
    "        inplace = True)\n",
    "\n",
    "# Split shots made from attempted\n",
    "df2[['2PM', '2PA']] = df2['2M-2A'].str.split('-', expand=True)\n",
    "df2[['3PM', '3PA']] = df2['3M-3A'].str.split('-', expand=True)\n",
    "df2[['FTM', 'FTA']] = df2['1M-1A'].str.split('-', expand=True)\n",
    "df2.drop(columns=['2M-2A', '3M-3A', '1M-1A', 'FG%', '1%'], inplace=True)"
   ]
  },
  {
   "cell_type": "code",
   "execution_count": 110,
   "metadata": {},
   "outputs": [],
   "source": [
    "# Change types into integers\n",
    "for col in df2.columns:\n",
    "    if col != 'PLAYER':\n",
    "        df2[col] = df2[col].astype(int)"
   ]
  },
  {
   "cell_type": "code",
   "execution_count": 111,
   "metadata": {},
   "outputs": [],
   "source": [
    "#Create Fild Goal colums\n",
    "df2['FGM'] = df2['2PM'] + df2['3PM']\n",
    "df2['FGA'] = df2['2PA'] + df2['3PA']\n",
    "\n",
    "# Create percentage columns\n",
    "df2['FG%'] = df2['FGM'].div(df2['FGA'], fill_value=0).fillna(0).round(2) * 100\n",
    "df2['2P%'] = df2['2PM'].div(df2['2PA'], fill_value=0).fillna(0).round(2) * 100\n",
    "df2['3P%'] = df2['3PM'].div(df2['3PA'], fill_value=0).fillna(0).round(2) * 100\n",
    "df2['FT%'] = df2['FTM'].div(df2['FTA'], fill_value=0).fillna(0).round(2) * 100"
   ]
  },
  {
   "cell_type": "code",
   "execution_count": 112,
   "metadata": {},
   "outputs": [],
   "source": [
    "# Drop duplicated columns\n",
    "df2 = df2.loc[:, ~df2.columns.duplicated()]"
   ]
  },
  {
   "cell_type": "code",
   "execution_count": 113,
   "metadata": {},
   "outputs": [],
   "source": [
    "# Add the Team Name and the Game ID\n",
    "df2['TEAM'] = driver.find_element(By.XPATH, '/html/body/main/div/div[2]/div[3]/div/div[2]/div/div/a/h3').accessible_name\n",
    "df2['GAME'] = 'FRA1'"
   ]
  },
  {
   "cell_type": "code",
   "execution_count": 114,
   "metadata": {},
   "outputs": [],
   "source": [
    "# Reorder the Dataframe\n",
    "df2 = df2[['GAME' ,'TEAM', 'PLAYER', 'MIN', 'PTS', 'REB', 'AST', 'STL', 'BLK', 'TO', 'FO', 'FGM', 'FGA', 'FG%', '2PM', '2PA', '2P%', '3PM', '3PA', '3P%', 'FTM', 'FTA', 'FT%', 'OR', 'DR', '+/-', 'EFF']]"
   ]
  },
  {
   "cell_type": "code",
   "execution_count": 115,
   "metadata": {},
   "outputs": [],
   "source": [
    "# Return page\n",
    "driver.back()"
   ]
  },
  {
   "cell_type": "code",
   "execution_count": 116,
   "metadata": {},
   "outputs": [],
   "source": [
    "# Navigate throug page\n",
    "# Schedule -> Preparation\n",
    "driver.find_element(By.XPATH, '//*[@id=\"league-Preparation-list\"]').click()"
   ]
  },
  {
   "cell_type": "code",
   "execution_count": 117,
   "metadata": {},
   "outputs": [],
   "source": [
    "# Wait\n",
    "time.sleep(5)"
   ]
  },
  {
   "cell_type": "code",
   "execution_count": 118,
   "metadata": {},
   "outputs": [],
   "source": [
    "# Game 2\n",
    "driver.find_element(By.XPATH, '//*[@id=\"league-370\"]/div[1]/div/table/tbody/tr[2]/td[4]/a').click()"
   ]
  },
  {
   "cell_type": "code",
   "execution_count": 119,
   "metadata": {},
   "outputs": [],
   "source": [
    "# Create DataFrame for first team\n",
    "table = driver.find_element(By.XPATH, '/html/body/main/div/div[2]/div[3]/div/div[1]/div/div/div/div')\n",
    "headers = [header.text for header in table.find_elements(By.TAG_NAME, 'th')]\n",
    "rows = [[cell.text for cell in row.find_elements(By.TAG_NAME, 'td')] \n",
    "            for row in table.find_elements(By.TAG_NAME, 'tr') if row.find_elements(By.TAG_NAME, 'td')]\n",
    "df3 = pd.DataFrame(rows, columns=headers)"
   ]
  },
  {
   "cell_type": "code",
   "execution_count": 120,
   "metadata": {},
   "outputs": [],
   "source": [
    "# Drop the totals\n",
    "df3.drop(df3.tail(1).index,\n",
    "        inplace = True)\n",
    "\n",
    "# Split shots made from attempted\n",
    "df3[['2PM', '2PA']] = df3['2M-2A'].str.split('-', expand=True)\n",
    "df3[['3PM', '3PA']] = df3['3M-3A'].str.split('-', expand=True)\n",
    "df3[['FTM', 'FTA']] = df3['1M-1A'].str.split('-', expand=True)\n",
    "df3.drop(columns=['2M-2A', '3M-3A', '1M-1A', 'FG%', '1%'], inplace=True)"
   ]
  },
  {
   "cell_type": "code",
   "execution_count": 121,
   "metadata": {},
   "outputs": [],
   "source": [
    "# Change types into integers\n",
    "for col in df3.columns:\n",
    "    if col != 'PLAYER':\n",
    "        df3[col] = df3[col].astype(int)"
   ]
  },
  {
   "cell_type": "code",
   "execution_count": 122,
   "metadata": {},
   "outputs": [],
   "source": [
    "#Create Fild Goal colums\n",
    "df3['FGM'] = df3['2PM'] + df3['3PM']\n",
    "df3['FGA'] = df3['2PA'] + df3['3PA']\n",
    "\n",
    "# Create percentage columns\n",
    "df3['FG%'] = df3['FGM'].div(df3['FGA'], fill_value=0).fillna(0).round(2) * 100\n",
    "df3['2P%'] = df3['2PM'].div(df3['2PA'], fill_value=0).fillna(0).round(2) * 100\n",
    "df3['3P%'] = df3['3PM'].div(df3['3PA'], fill_value=0).fillna(0).round(2) * 100\n",
    "df3['FT%'] = df3['FTM'].div(df3['FTA'], fill_value=0).fillna(0).round(2) * 100"
   ]
  },
  {
   "cell_type": "code",
   "execution_count": 123,
   "metadata": {},
   "outputs": [],
   "source": [
    "# Drop duplicated columns\n",
    "df3 = df3.loc[:, ~df3.columns.duplicated()]"
   ]
  },
  {
   "cell_type": "code",
   "execution_count": 124,
   "metadata": {},
   "outputs": [],
   "source": [
    "# Add the Team Name and the Game ID\n",
    "df3['TEAM'] = driver.find_element(By.XPATH, '/html/body/main/div/div[2]/div[3]/div/div[1]/div/div/a/h3').accessible_name\n",
    "df3['GAME'] = 'GER2'"
   ]
  },
  {
   "cell_type": "code",
   "execution_count": 125,
   "metadata": {},
   "outputs": [],
   "source": [
    "# Reorder the Dataframe\n",
    "df3 = df3[['GAME' ,'TEAM', 'PLAYER', 'MIN', 'PTS', 'REB', 'AST', 'STL', 'BLK', 'TO', 'FO', 'FGM', 'FGA', 'FG%', '2PM', '2PA', '2P%', '3PM', '3PA', '3P%', 'FTM', 'FTA', 'FT%', 'OR', 'DR', '+/-', 'EFF']]"
   ]
  },
  {
   "cell_type": "code",
   "execution_count": 126,
   "metadata": {},
   "outputs": [],
   "source": [
    "# Create DataFrame for second team\n",
    "table = driver.find_element(By.XPATH, '/html/body/main/div/div[2]/div[3]/div/div[2]/div/div/div/div')\n",
    "headers = [header.text for header in table.find_elements(By.TAG_NAME, 'th')]\n",
    "rows = [[cell.text for cell in row.find_elements(By.TAG_NAME, 'td')] \n",
    "            for row in table.find_elements(By.TAG_NAME, 'tr') if row.find_elements(By.TAG_NAME, 'td')]\n",
    "df4 = pd.DataFrame(rows, columns=headers)"
   ]
  },
  {
   "cell_type": "code",
   "execution_count": 127,
   "metadata": {},
   "outputs": [],
   "source": [
    "# Drop the totals\n",
    "df4.drop(df4.tail(1).index,\n",
    "        inplace = True)\n",
    "\n",
    "# Split shots made from attempted\n",
    "df4[['2PM', '2PA']] = df4['2M-2A'].str.split('-', expand=True)\n",
    "df4[['3PM', '3PA']] = df4['3M-3A'].str.split('-', expand=True)\n",
    "df4[['FTM', 'FTA']] = df4['1M-1A'].str.split('-', expand=True)\n",
    "df4.drop(columns=['2M-2A', '3M-3A', '1M-1A', 'FG%', '1%'], inplace=True)"
   ]
  },
  {
   "cell_type": "code",
   "execution_count": 128,
   "metadata": {},
   "outputs": [],
   "source": [
    "# Change types into integers\n",
    "for col in df4.columns:\n",
    "    if col != 'PLAYER':\n",
    "        df4[col] = df4[col].astype(int)"
   ]
  },
  {
   "cell_type": "code",
   "execution_count": 129,
   "metadata": {},
   "outputs": [],
   "source": [
    "#Create Fild Goal colums\n",
    "df4['FGM'] = df4['2PM'] + df4['3PM']\n",
    "df4['FGA'] = df4['2PA'] + df4['3PA']\n",
    "\n",
    "# Create percentage columns\n",
    "df4['FG%'] = df4['FGM'].div(df4['FGA'], fill_value=0).fillna(0).round(2) * 100\n",
    "df4['2P%'] = df4['2PM'].div(df4['2PA'], fill_value=0).fillna(0).round(2) * 100\n",
    "df4['3P%'] = df4['3PM'].div(df4['3PA'], fill_value=0).fillna(0).round(2) * 100\n",
    "df4['FT%'] = df4['FTM'].div(df4['FTA'], fill_value=0).fillna(0).round(2) * 100"
   ]
  },
  {
   "cell_type": "code",
   "execution_count": 130,
   "metadata": {},
   "outputs": [],
   "source": [
    "# Drop duplicated columns\n",
    "df4 = df4.loc[:, ~df4.columns.duplicated()]"
   ]
  },
  {
   "cell_type": "code",
   "execution_count": 131,
   "metadata": {},
   "outputs": [],
   "source": [
    "# Add the Team Name and the Game ID\n",
    "df4['TEAM'] = driver.find_element(By.XPATH, '/html/body/main/div/div[2]/div[3]/div/div[2]/div/div/a/h3').accessible_name\n",
    "df4['GAME'] = 'GER2'"
   ]
  },
  {
   "cell_type": "code",
   "execution_count": 132,
   "metadata": {},
   "outputs": [],
   "source": [
    "# Reorder the Dataframe\n",
    "df4 = df4[['GAME' ,'TEAM', 'PLAYER', 'MIN', 'PTS', 'REB', 'AST', 'STL', 'BLK', 'TO', 'FO', 'FGM', 'FGA', 'FG%', '2PM', '2PA', '2P%', '3PM', '3PA', '3P%', 'FTM', 'FTA', 'FT%', 'OR', 'DR', '+/-', 'EFF']]"
   ]
  },
  {
   "cell_type": "code",
   "execution_count": 133,
   "metadata": {},
   "outputs": [],
   "source": [
    "# Return page\n",
    "driver.back()"
   ]
  },
  {
   "cell_type": "code",
   "execution_count": 134,
   "metadata": {},
   "outputs": [],
   "source": [
    "# Navigate throug page\n",
    "# Schedule -> Preparation\n",
    "driver.find_element(By.XPATH, '/html/body/main/div/div[2]/div/section[2]/div/ul/li[2]/a').click()\n",
    "driver.find_element(By.XPATH, '//*[@id=\"league-Preparation-list\"]').click()"
   ]
  },
  {
   "cell_type": "code",
   "execution_count": 135,
   "metadata": {},
   "outputs": [],
   "source": [
    "# Wait\n",
    "time.sleep(5)"
   ]
  },
  {
   "cell_type": "code",
   "execution_count": 136,
   "metadata": {},
   "outputs": [],
   "source": [
    "# Game 3\n",
    "driver.find_element(By.XPATH, '//*[@id=\"league-370\"]/div[1]/div/table/tbody/tr[3]/td[4]/a').click()"
   ]
  },
  {
   "cell_type": "code",
   "execution_count": 137,
   "metadata": {},
   "outputs": [],
   "source": [
    "# Create DataFrame for first team\n",
    "table = driver.find_element(By.XPATH, '/html/body/main/div/div[2]/div[3]/div/div[1]/div/div/div/div')\n",
    "headers = [header.text for header in table.find_elements(By.TAG_NAME, 'th')]\n",
    "rows = [[cell.text for cell in row.find_elements(By.TAG_NAME, 'td')] \n",
    "            for row in table.find_elements(By.TAG_NAME, 'tr') if row.find_elements(By.TAG_NAME, 'td')]\n",
    "df5 = pd.DataFrame(rows, columns=headers)"
   ]
  },
  {
   "cell_type": "code",
   "execution_count": 138,
   "metadata": {},
   "outputs": [],
   "source": [
    "# Drop the totals\n",
    "df5.drop(df5.tail(1).index,\n",
    "        inplace = True)\n",
    "\n",
    "# Split shots made from attempted\n",
    "df5[['2PM', '2PA']] = df5['2M-2A'].str.split('-', expand=True)\n",
    "df5[['3PM', '3PA']] = df5['3M-3A'].str.split('-', expand=True)\n",
    "df5[['FTM', 'FTA']] = df5['1M-1A'].str.split('-', expand=True)\n",
    "df5.drop(columns=['2M-2A', '3M-3A', '1M-1A', 'FG%', '1%'], inplace=True)"
   ]
  },
  {
   "cell_type": "code",
   "execution_count": 139,
   "metadata": {},
   "outputs": [],
   "source": [
    "# Change types into integers\n",
    "for col in df5.columns:\n",
    "    if col != 'PLAYER':\n",
    "        df5[col] = df5[col].astype(int)"
   ]
  },
  {
   "cell_type": "code",
   "execution_count": 140,
   "metadata": {},
   "outputs": [],
   "source": [
    "#Create Fild Goal colums\n",
    "df5['FGM'] = df5['2PM'] + df5['3PM']\n",
    "df5['FGA'] = df5['2PA'] + df5['3PA']\n",
    "\n",
    "# Create percentage columns\n",
    "df5['FG%'] = df5['FGM'].div(df5['FGA'], fill_value=0).fillna(0).round(2) * 100\n",
    "df5['2P%'] = df5['2PM'].div(df5['2PA'], fill_value=0).fillna(0).round(2) * 100\n",
    "df5['3P%'] = df5['3PM'].div(df5['3PA'], fill_value=0).fillna(0).round(2) * 100\n",
    "df5['FT%'] = df5['FTM'].div(df5['FTA'], fill_value=0).fillna(0).round(2) * 100"
   ]
  },
  {
   "cell_type": "code",
   "execution_count": 141,
   "metadata": {},
   "outputs": [],
   "source": [
    "# Drop duplicated columns\n",
    "df5 = df5.loc[:, ~df5.columns.duplicated()]"
   ]
  },
  {
   "cell_type": "code",
   "execution_count": 142,
   "metadata": {},
   "outputs": [],
   "source": [
    "# Add the Team Name and the Game ID\n",
    "df5['TEAM'] = driver.find_element(By.XPATH, '/html/body/main/div/div[2]/div[3]/div/div[1]/div/div/a/h3').accessible_name\n",
    "df5['GAME'] = 'FRA2'"
   ]
  },
  {
   "cell_type": "code",
   "execution_count": 143,
   "metadata": {},
   "outputs": [],
   "source": [
    "# Reorder the Dataframe\n",
    "df5 = df5[['GAME' ,'TEAM', 'PLAYER', 'MIN', 'PTS', 'REB', 'AST', 'STL', 'BLK', 'TO', 'FO', 'FGM', 'FGA', 'FG%', '2PM', '2PA', '2P%', '3PM', '3PA', '3P%', 'FTM', 'FTA', 'FT%', 'OR', 'DR', '+/-', 'EFF']]"
   ]
  },
  {
   "cell_type": "code",
   "execution_count": 144,
   "metadata": {},
   "outputs": [],
   "source": [
    "# Create DataFrame for second team\n",
    "table = driver.find_element(By.XPATH, '/html/body/main/div/div[2]/div[3]/div/div[2]/div/div/div/div')\n",
    "headers = [header.text for header in table.find_elements(By.TAG_NAME, 'th')]\n",
    "rows = [[cell.text for cell in row.find_elements(By.TAG_NAME, 'td')] \n",
    "            for row in table.find_elements(By.TAG_NAME, 'tr') if row.find_elements(By.TAG_NAME, 'td')]\n",
    "df6 = pd.DataFrame(rows, columns=headers)"
   ]
  },
  {
   "cell_type": "code",
   "execution_count": 145,
   "metadata": {},
   "outputs": [],
   "source": [
    "# Drop the totals\n",
    "df6.drop(df6.tail(1).index,\n",
    "        inplace = True)\n",
    "\n",
    "# Split shots made from attempted\n",
    "df6[['2PM', '2PA']] = df6['2M-2A'].str.split('-', expand=True)\n",
    "df6[['3PM', '3PA']] = df6['3M-3A'].str.split('-', expand=True)\n",
    "df6[['FTM', 'FTA']] = df6['1M-1A'].str.split('-', expand=True)\n",
    "df6.drop(columns=['2M-2A', '3M-3A', '1M-1A', 'FG%', '1%'], inplace=True)"
   ]
  },
  {
   "cell_type": "code",
   "execution_count": 146,
   "metadata": {},
   "outputs": [],
   "source": [
    "# Change types into integers\n",
    "for col in df6.columns:\n",
    "    if col != 'PLAYER':\n",
    "        df6[col] = df6[col].astype(int)"
   ]
  },
  {
   "cell_type": "code",
   "execution_count": 147,
   "metadata": {},
   "outputs": [],
   "source": [
    "#Create Fild Goal colums\n",
    "df6['FGM'] = df6['2PM'] + df6['3PM']\n",
    "df6['FGA'] = df6['2PA'] + df6['3PA']\n",
    "\n",
    "# Create percentage columns\n",
    "df6['FG%'] = df6['FGM'].div(df6['FGA'], fill_value=0).fillna(0).round(2) * 100\n",
    "df6['2P%'] = df6['2PM'].div(df6['2PA'], fill_value=0).fillna(0).round(2) * 100\n",
    "df6['3P%'] = df6['3PM'].div(df6['3PA'], fill_value=0).fillna(0).round(2) * 100\n",
    "df6['FT%'] = df6['FTM'].div(df6['FTA'], fill_value=0).fillna(0).round(2) * 100"
   ]
  },
  {
   "cell_type": "code",
   "execution_count": 148,
   "metadata": {},
   "outputs": [],
   "source": [
    "# Drop duplicated columns\n",
    "df6 = df6.loc[:, ~df6.columns.duplicated()]"
   ]
  },
  {
   "cell_type": "code",
   "execution_count": 149,
   "metadata": {},
   "outputs": [],
   "source": [
    "# Add the Team Name and the Game ID\n",
    "df6['TEAM'] = driver.find_element(By.XPATH, '/html/body/main/div/div[2]/div[3]/div/div[2]/div/div/a/h3').accessible_name\n",
    "df6['GAME'] = 'FRA2'"
   ]
  },
  {
   "cell_type": "code",
   "execution_count": 150,
   "metadata": {},
   "outputs": [],
   "source": [
    "# Reorder the Dataframe\n",
    "df6 = df6[['GAME' ,'TEAM', 'PLAYER', 'MIN', 'PTS', 'REB', 'AST', 'STL', 'BLK', 'TO', 'FO', 'FGM', 'FGA', 'FG%', '2PM', '2PA', '2P%', '3PM', '3PA', '3P%', 'FTM', 'FTA', 'FT%', 'OR', 'DR', '+/-', 'EFF']]"
   ]
  },
  {
   "cell_type": "code",
   "execution_count": 151,
   "metadata": {},
   "outputs": [],
   "source": [
    "# Return page\n",
    "driver.back()"
   ]
  },
  {
   "cell_type": "code",
   "execution_count": 152,
   "metadata": {},
   "outputs": [],
   "source": [
    "# Navigate throug page\n",
    "# Schedule -> Preparation\n",
    "driver.find_element(By.XPATH, '/html/body/main/div/div[2]/div/section[2]/div/ul/li[2]/a').click()\n",
    "driver.find_element(By.XPATH, '//*[@id=\"league-Preparation-list\"]').click()"
   ]
  },
  {
   "cell_type": "code",
   "execution_count": 153,
   "metadata": {},
   "outputs": [],
   "source": [
    "# Wait\n",
    "time.sleep(5)"
   ]
  },
  {
   "cell_type": "code",
   "execution_count": 154,
   "metadata": {},
   "outputs": [],
   "source": [
    "# Game 4\n",
    "driver.find_element(By.XPATH, '//*[@id=\"league-370\"]/div[1]/div/table/tbody/tr[4]/td[4]/a').click()"
   ]
  },
  {
   "cell_type": "code",
   "execution_count": 155,
   "metadata": {},
   "outputs": [],
   "source": [
    "# Create DataFrame for first team\n",
    "table = driver.find_element(By.XPATH, '/html/body/main/div/div[2]/div[3]/div/div[1]/div/div/div/div')\n",
    "headers = [header.text for header in table.find_elements(By.TAG_NAME, 'th')]\n",
    "rows = [[cell.text for cell in row.find_elements(By.TAG_NAME, 'td')] \n",
    "            for row in table.find_elements(By.TAG_NAME, 'tr') if row.find_elements(By.TAG_NAME, 'td')]\n",
    "df7 = pd.DataFrame(rows, columns=headers)"
   ]
  },
  {
   "cell_type": "code",
   "execution_count": 156,
   "metadata": {},
   "outputs": [],
   "source": [
    "# Drop the totals\n",
    "df7.drop(df7.tail(1).index,\n",
    "        inplace = True)\n",
    "\n",
    "# Split shots made from attempted\n",
    "df7[['2PM', '2PA']] = df7['2M-2A'].str.split('-', expand=True)\n",
    "df7[['3PM', '3PA']] = df7['3M-3A'].str.split('-', expand=True)\n",
    "df7[['FTM', 'FTA']] = df7['1M-1A'].str.split('-', expand=True)\n",
    "df7.drop(columns=['2M-2A', '3M-3A', '1M-1A', 'FG%', '1%'], inplace=True)"
   ]
  },
  {
   "cell_type": "code",
   "execution_count": 157,
   "metadata": {},
   "outputs": [],
   "source": [
    "# Change types into integers\n",
    "for col in df7.columns:\n",
    "    if col != 'PLAYER':\n",
    "        df7[col] = df7[col].astype(int)"
   ]
  },
  {
   "cell_type": "code",
   "execution_count": 158,
   "metadata": {},
   "outputs": [],
   "source": [
    "#Create Fild Goal colums\n",
    "df7['FGM'] = df7['2PM'] + df7['3PM']\n",
    "df7['FGA'] = df7['2PA'] + df7['3PA']\n",
    "\n",
    "# Create percentage columns\n",
    "df7['FG%'] = df7['FGM'].div(df7['FGA'], fill_value=0).fillna(0).round(2) * 100\n",
    "df7['2P%'] = df7['2PM'].div(df7['2PA'], fill_value=0).fillna(0).round(2) * 100\n",
    "df7['3P%'] = df7['3PM'].div(df7['3PA'], fill_value=0).fillna(0).round(2) * 100\n",
    "df7['FT%'] = df7['FTM'].div(df7['FTA'], fill_value=0).fillna(0).round(2) * 100"
   ]
  },
  {
   "cell_type": "code",
   "execution_count": 159,
   "metadata": {},
   "outputs": [],
   "source": [
    "# Drop duplicated columns\n",
    "df7 = df7.loc[:, ~df7.columns.duplicated()]"
   ]
  },
  {
   "cell_type": "code",
   "execution_count": 160,
   "metadata": {},
   "outputs": [],
   "source": [
    "# Add the Team Name and the Game ID\n",
    "df7['TEAM'] = driver.find_element(By.XPATH, '/html/body/main/div/div[2]/div[3]/div/div[1]/div/div/a/h3').accessible_name\n",
    "df7['GAME'] = 'FRA3'"
   ]
  },
  {
   "cell_type": "code",
   "execution_count": 161,
   "metadata": {},
   "outputs": [],
   "source": [
    "# Reorder the Dataframe\n",
    "df7 = df7[['GAME' ,'TEAM', 'PLAYER', 'MIN', 'PTS', 'REB', 'AST', 'STL', 'BLK', 'TO', 'FO', 'FGM', 'FGA', 'FG%', '2PM', '2PA', '2P%', '3PM', '3PA', '3P%', 'FTM', 'FTA', 'FT%', 'OR', 'DR', '+/-', 'EFF']]"
   ]
  },
  {
   "cell_type": "code",
   "execution_count": 162,
   "metadata": {},
   "outputs": [],
   "source": [
    "# Create DataFrame for second team\n",
    "table = driver.find_element(By.XPATH, '/html/body/main/div/div[2]/div[3]/div/div[2]/div/div/div/div')\n",
    "headers = [header.text for header in table.find_elements(By.TAG_NAME, 'th')]\n",
    "rows = [[cell.text for cell in row.find_elements(By.TAG_NAME, 'td')] \n",
    "            for row in table.find_elements(By.TAG_NAME, 'tr') if row.find_elements(By.TAG_NAME, 'td')]\n",
    "df8 = pd.DataFrame(rows, columns=headers)"
   ]
  },
  {
   "cell_type": "code",
   "execution_count": 163,
   "metadata": {},
   "outputs": [],
   "source": [
    "# Drop the totals\n",
    "df8.drop(df8.tail(1).index,\n",
    "        inplace = True)\n",
    "\n",
    "# Split shots made from attempted\n",
    "df8[['2PM', '2PA']] = df8['2M-2A'].str.split('-', expand=True)\n",
    "df8[['3PM', '3PA']] = df8['3M-3A'].str.split('-', expand=True)\n",
    "df8[['FTM', 'FTA']] = df8['1M-1A'].str.split('-', expand=True)\n",
    "df8.drop(columns=['2M-2A', '3M-3A', '1M-1A', 'FG%', '1%'], inplace=True)"
   ]
  },
  {
   "cell_type": "code",
   "execution_count": 164,
   "metadata": {},
   "outputs": [],
   "source": [
    "# Change types into integers\n",
    "for col in df8.columns:\n",
    "    if col != 'PLAYER':\n",
    "        df8[col] = df8[col].astype(int)"
   ]
  },
  {
   "cell_type": "code",
   "execution_count": 165,
   "metadata": {},
   "outputs": [],
   "source": [
    "#Create Fild Goal colums\n",
    "df8['FGM'] = df8['2PM'] + df8['3PM']\n",
    "df8['FGA'] = df8['2PA'] + df8['3PA']\n",
    "\n",
    "# Create percentage columns\n",
    "df8['FG%'] = df8['FGM'].div(df8['FGA'], fill_value=0).fillna(0).round(2) * 100\n",
    "df8['2P%'] = df8['2PM'].div(df8['2PA'], fill_value=0).fillna(0).round(2) * 100\n",
    "df8['3P%'] = df8['3PM'].div(df8['3PA'], fill_value=0).fillna(0).round(2) * 100\n",
    "df8['FT%'] = df8['FTM'].div(df8['FTA'], fill_value=0).fillna(0).round(2) * 100"
   ]
  },
  {
   "cell_type": "code",
   "execution_count": 166,
   "metadata": {},
   "outputs": [],
   "source": [
    "# Drop duplicated columns\n",
    "df8 = df8.loc[:, ~df8.columns.duplicated()]"
   ]
  },
  {
   "cell_type": "code",
   "execution_count": 167,
   "metadata": {},
   "outputs": [],
   "source": [
    "# Add the Team Name and the Game ID\n",
    "df8['TEAM'] = driver.find_element(By.XPATH, '/html/body/main/div/div[2]/div[3]/div/div[2]/div/div/a/h3').accessible_name\n",
    "df8['GAME'] = 'FRA3'"
   ]
  },
  {
   "cell_type": "code",
   "execution_count": 168,
   "metadata": {},
   "outputs": [],
   "source": [
    "# Reorder the Dataframe\n",
    "df8 = df8[['GAME' ,'TEAM', 'PLAYER', 'MIN', 'PTS', 'REB', 'AST', 'STL', 'BLK', 'TO', 'FO', 'FGM', 'FGA', 'FG%', '2PM', '2PA', '2P%', '3PM', '3PA', '3P%', 'FTM', 'FTA', 'FT%', 'OR', 'DR', '+/-', 'EFF']]"
   ]
  },
  {
   "cell_type": "code",
   "execution_count": 169,
   "metadata": {},
   "outputs": [],
   "source": [
    "# Return page\n",
    "driver.back()"
   ]
  },
  {
   "cell_type": "code",
   "execution_count": 170,
   "metadata": {},
   "outputs": [],
   "source": [
    "# Navigate throug page\n",
    "# Schedule -> Preparation\n",
    "driver.find_element(By.XPATH, '/html/body/main/div/div[2]/div/section[2]/div/ul/li[2]/a').click()\n",
    "driver.find_element(By.XPATH, '//*[@id=\"league-Preparation-list\"]').click()"
   ]
  },
  {
   "cell_type": "code",
   "execution_count": 171,
   "metadata": {},
   "outputs": [],
   "source": [
    "# Wait\n",
    "time.sleep(5)"
   ]
  },
  {
   "cell_type": "code",
   "execution_count": 172,
   "metadata": {},
   "outputs": [],
   "source": [
    "# Game 5\n",
    "driver.find_element(By.XPATH, '//*[@id=\"league-370\"]/div[1]/div/table/tbody/tr[5]/td[4]/a').click()"
   ]
  },
  {
   "cell_type": "code",
   "execution_count": 173,
   "metadata": {},
   "outputs": [],
   "source": [
    "# Create DataFrame for first team\n",
    "table = driver.find_element(By.XPATH, '/html/body/main/div/div[2]/div[3]/div/div[1]/div/div/div/div')\n",
    "headers = [header.text for header in table.find_elements(By.TAG_NAME, 'th')]\n",
    "rows = [[cell.text for cell in row.find_elements(By.TAG_NAME, 'td')] \n",
    "            for row in table.find_elements(By.TAG_NAME, 'tr') if row.find_elements(By.TAG_NAME, 'td')]\n",
    "df9 = pd.DataFrame(rows, columns=headers)"
   ]
  },
  {
   "cell_type": "code",
   "execution_count": 174,
   "metadata": {},
   "outputs": [],
   "source": [
    "# Drop the totals\n",
    "df9.drop(df9.tail(1).index,\n",
    "        inplace = True)\n",
    "\n",
    "# Split shots made from attempted\n",
    "df9[['2PM', '2PA']] = df9['2M-2A'].str.split('-', expand=True)\n",
    "df9[['3PM', '3PA']] = df9['3M-3A'].str.split('-', expand=True)\n",
    "df9[['FTM', 'FTA']] = df9['1M-1A'].str.split('-', expand=True)\n",
    "df9.drop(columns=['2M-2A', '3M-3A', '1M-1A', 'FG%', '1%'], inplace=True)"
   ]
  },
  {
   "cell_type": "code",
   "execution_count": 175,
   "metadata": {},
   "outputs": [],
   "source": [
    "# Change types into integers\n",
    "for col in df9.columns:\n",
    "    if col != 'PLAYER':\n",
    "        df9[col] = df9[col].astype(int)"
   ]
  },
  {
   "cell_type": "code",
   "execution_count": 176,
   "metadata": {},
   "outputs": [],
   "source": [
    "#Create Fild Goal colums\n",
    "df9['FGM'] = df9['2PM'] + df9['3PM']\n",
    "df9['FGA'] = df9['2PA'] + df9['3PA']\n",
    "\n",
    "# Create percentage columns\n",
    "df9['FG%'] = df9['FGM'].div(df9['FGA'], fill_value=0).fillna(0).round(2) * 100\n",
    "df9['2P%'] = df9['2PM'].div(df9['2PA'], fill_value=0).fillna(0).round(2) * 100\n",
    "df9['3P%'] = df9['3PM'].div(df9['3PA'], fill_value=0).fillna(0).round(2) * 100\n",
    "df9['FT%'] = df9['FTM'].div(df9['FTA'], fill_value=0).fillna(0).round(2) * 100"
   ]
  },
  {
   "cell_type": "code",
   "execution_count": 177,
   "metadata": {},
   "outputs": [],
   "source": [
    "# Drop duplicated columns\n",
    "df9 = df9.loc[:, ~df9.columns.duplicated()]"
   ]
  },
  {
   "cell_type": "code",
   "execution_count": 178,
   "metadata": {},
   "outputs": [],
   "source": [
    "# Add the Team Name and the Game ID\n",
    "df9['TEAM'] = driver.find_element(By.XPATH, '/html/body/main/div/div[2]/div[3]/div/div[1]/div/div/a/h3').accessible_name\n",
    "df9['GAME'] = 'FRA4'"
   ]
  },
  {
   "cell_type": "code",
   "execution_count": 179,
   "metadata": {},
   "outputs": [],
   "source": [
    "# Reorder the Dataframe\n",
    "df9 = df9[['GAME' ,'TEAM', 'PLAYER', 'MIN', 'PTS', 'REB', 'AST', 'STL', 'BLK', 'TO', 'FO', 'FGM', 'FGA', 'FG%', '2PM', '2PA', '2P%', '3PM', '3PA', '3P%', 'FTM', 'FTA', 'FT%', 'OR', 'DR', '+/-', 'EFF']]"
   ]
  },
  {
   "cell_type": "code",
   "execution_count": 180,
   "metadata": {},
   "outputs": [],
   "source": [
    "# Create DataFrame for second team\n",
    "table = driver.find_element(By.XPATH, '/html/body/main/div/div[2]/div[3]/div/div[2]/div/div/div/div')\n",
    "headers = [header.text for header in table.find_elements(By.TAG_NAME, 'th')]\n",
    "rows = [[cell.text for cell in row.find_elements(By.TAG_NAME, 'td')] \n",
    "            for row in table.find_elements(By.TAG_NAME, 'tr') if row.find_elements(By.TAG_NAME, 'td')]\n",
    "df10 = pd.DataFrame(rows, columns=headers)"
   ]
  },
  {
   "cell_type": "code",
   "execution_count": 181,
   "metadata": {},
   "outputs": [],
   "source": [
    "# Drop the totals\n",
    "df10.drop(df10.tail(1).index,\n",
    "        inplace = True)\n",
    "\n",
    "# Split shots made from attempted\n",
    "df10[['2PM', '2PA']] = df10['2M-2A'].str.split('-', expand=True)\n",
    "df10[['3PM', '3PA']] = df10['3M-3A'].str.split('-', expand=True)\n",
    "df10[['FTM', 'FTA']] = df10['1M-1A'].str.split('-', expand=True)\n",
    "df10.drop(columns=['2M-2A', '3M-3A', '1M-1A', 'FG%', '1%'], inplace=True)"
   ]
  },
  {
   "cell_type": "code",
   "execution_count": 182,
   "metadata": {},
   "outputs": [],
   "source": [
    "# Change types into integers\n",
    "for col in df10.columns:\n",
    "    if col != 'PLAYER':\n",
    "        df10[col] = df10[col].astype(int)"
   ]
  },
  {
   "cell_type": "code",
   "execution_count": 183,
   "metadata": {},
   "outputs": [],
   "source": [
    "#Create Fild Goal colums\n",
    "df10['FGM'] = df10['2PM'] + df10['3PM']\n",
    "df10['FGA'] = df10['2PA'] + df10['3PA']\n",
    "\n",
    "# Create percentage columns\n",
    "df10['FG%'] = df10['FGM'].div(df10['FGA'], fill_value=0).fillna(0).round(2) * 100\n",
    "df10['2P%'] = df10['2PM'].div(df10['2PA'], fill_value=0).fillna(0).round(2) * 100\n",
    "df10['3P%'] = df10['3PM'].div(df10['3PA'], fill_value=0).fillna(0).round(2) * 100\n",
    "df10['FT%'] = df10['FTM'].div(df10['FTA'], fill_value=0).fillna(0).round(2) * 100"
   ]
  },
  {
   "cell_type": "code",
   "execution_count": 184,
   "metadata": {},
   "outputs": [],
   "source": [
    "# Drop duplicated columns\n",
    "df10 = df10.loc[:, ~df10.columns.duplicated()]"
   ]
  },
  {
   "cell_type": "code",
   "execution_count": 185,
   "metadata": {},
   "outputs": [],
   "source": [
    "# Add the Team Name and the Game ID\n",
    "df10['TEAM'] = driver.find_element(By.XPATH, '/html/body/main/div/div[2]/div[3]/div/div[2]/div/div/a/h3').accessible_name\n",
    "df10['GAME'] = 'FRA4'"
   ]
  },
  {
   "cell_type": "code",
   "execution_count": 186,
   "metadata": {},
   "outputs": [],
   "source": [
    "# Reorder the Dataframe\n",
    "df10 = df10[['GAME' ,'TEAM', 'PLAYER', 'MIN', 'PTS', 'REB', 'AST', 'STL', 'BLK', 'TO', 'FO', 'FGM', 'FGA', 'FG%', '2PM', '2PA', '2P%', '3PM', '3PA', '3P%', 'FTM', 'FTA', 'FT%', 'OR', 'DR', '+/-', 'EFF']]"
   ]
  },
  {
   "cell_type": "code",
   "execution_count": 187,
   "metadata": {},
   "outputs": [],
   "source": [
    "# Return page\n",
    "driver.back()"
   ]
  },
  {
   "cell_type": "code",
   "execution_count": 188,
   "metadata": {},
   "outputs": [],
   "source": [
    "# Navigate throug page\n",
    "# Schedule -> Preparation\n",
    "driver.find_element(By.XPATH, '/html/body/main/div/div[2]/div/section[2]/div/ul/li[2]/a').click()\n",
    "driver.find_element(By.XPATH, '//*[@id=\"league-Preparation-list\"]').click()"
   ]
  },
  {
   "cell_type": "code",
   "execution_count": 189,
   "metadata": {},
   "outputs": [],
   "source": [
    "# Wait\n",
    "time.sleep(5)"
   ]
  },
  {
   "cell_type": "code",
   "execution_count": 190,
   "metadata": {},
   "outputs": [],
   "source": [
    "# Game 6\n",
    "driver.find_element(By.XPATH, '//*[@id=\"league-370\"]/div[1]/div/table/tbody/tr[6]/td[4]/a').click()"
   ]
  },
  {
   "cell_type": "code",
   "execution_count": 191,
   "metadata": {},
   "outputs": [],
   "source": [
    "# Create DataFrame for first team\n",
    "table = driver.find_element(By.XPATH, '/html/body/main/div/div[2]/div[3]/div/div[1]/div/div/div/div')\n",
    "headers = [header.text for header in table.find_elements(By.TAG_NAME, 'th')]\n",
    "rows = [[cell.text for cell in row.find_elements(By.TAG_NAME, 'td')] \n",
    "            for row in table.find_elements(By.TAG_NAME, 'tr') if row.find_elements(By.TAG_NAME, 'td')]\n",
    "df11 = pd.DataFrame(rows, columns=headers)"
   ]
  },
  {
   "cell_type": "code",
   "execution_count": 192,
   "metadata": {},
   "outputs": [],
   "source": [
    "# Drop the totals\n",
    "df11.drop(df11.tail(1).index,\n",
    "        inplace = True)\n",
    "\n",
    "# Split shots made from attempted\n",
    "df11[['2PM', '2PA']] = df11['2M-2A'].str.split('-', expand=True)\n",
    "df11[['3PM', '3PA']] = df11['3M-3A'].str.split('-', expand=True)\n",
    "df11[['FTM', 'FTA']] = df11['1M-1A'].str.split('-', expand=True)\n",
    "df11.drop(columns=['2M-2A', '3M-3A', '1M-1A', 'FG%', '1%'], inplace=True)"
   ]
  },
  {
   "cell_type": "code",
   "execution_count": 193,
   "metadata": {},
   "outputs": [],
   "source": [
    "# Change types into integers\n",
    "for col in df11.columns:\n",
    "    if col != 'PLAYER':\n",
    "        df11[col] = df11[col].astype(int)"
   ]
  },
  {
   "cell_type": "code",
   "execution_count": 194,
   "metadata": {},
   "outputs": [],
   "source": [
    "#Create Fild Goal colums\n",
    "df11['FGM'] = df11['2PM'] + df11['3PM']\n",
    "df11['FGA'] = df11['2PA'] + df11['3PA']\n",
    "\n",
    "# Create percentage columns\n",
    "df11['FG%'] = df11['FGM'].div(df11['FGA'], fill_value=0).fillna(0).round(2) * 100\n",
    "df11['2P%'] = df11['2PM'].div(df11['2PA'], fill_value=0).fillna(0).round(2) * 100\n",
    "df11['3P%'] = df11['3PM'].div(df11['3PA'], fill_value=0).fillna(0).round(2) * 100\n",
    "df11['FT%'] = df11['FTM'].div(df11['FTA'], fill_value=0).fillna(0).round(2) * 100"
   ]
  },
  {
   "cell_type": "code",
   "execution_count": 195,
   "metadata": {},
   "outputs": [],
   "source": [
    "# Drop duplicated columns\n",
    "df11 = df11.loc[:, ~df11.columns.duplicated()]"
   ]
  },
  {
   "cell_type": "code",
   "execution_count": 196,
   "metadata": {},
   "outputs": [],
   "source": [
    "# Add the Team Name and the Game ID\n",
    "df11['TEAM'] = driver.find_element(By.XPATH, '/html/body/main/div/div[2]/div[3]/div/div[1]/div/div/a/h3').accessible_name\n",
    "df11['GAME'] = 'FRA5'"
   ]
  },
  {
   "cell_type": "code",
   "execution_count": 197,
   "metadata": {},
   "outputs": [],
   "source": [
    "# Reorder the Dataframe\n",
    "df11 = df11[['GAME' ,'TEAM', 'PLAYER', 'MIN', 'PTS', 'REB', 'AST', 'STL', 'BLK', 'TO', 'FO', 'FGM', 'FGA', 'FG%', '2PM', '2PA', '2P%', '3PM', '3PA', '3P%', 'FTM', 'FTA', 'FT%', 'OR', 'DR', '+/-', 'EFF']]"
   ]
  },
  {
   "cell_type": "code",
   "execution_count": 198,
   "metadata": {},
   "outputs": [],
   "source": [
    "# Create DataFrame for second team\n",
    "table = driver.find_element(By.XPATH, '/html/body/main/div/div[2]/div[3]/div/div[2]/div/div/div/div')\n",
    "headers = [header.text for header in table.find_elements(By.TAG_NAME, 'th')]\n",
    "rows = [[cell.text for cell in row.find_elements(By.TAG_NAME, 'td')] \n",
    "            for row in table.find_elements(By.TAG_NAME, 'tr') if row.find_elements(By.TAG_NAME, 'td')]\n",
    "df12 = pd.DataFrame(rows, columns=headers)"
   ]
  },
  {
   "cell_type": "code",
   "execution_count": 199,
   "metadata": {},
   "outputs": [],
   "source": [
    "# Drop the totals\n",
    "df12.drop(df12.tail(1).index,\n",
    "        inplace = True)\n",
    "\n",
    "# Split shots made from attempted\n",
    "df12[['2PM', '2PA']] = df12['2M-2A'].str.split('-', expand=True)\n",
    "df12[['3PM', '3PA']] = df12['3M-3A'].str.split('-', expand=True)\n",
    "df12[['FTM', 'FTA']] = df12['1M-1A'].str.split('-', expand=True)\n",
    "df12.drop(columns=['2M-2A', '3M-3A', '1M-1A', 'FG%', '1%'], inplace=True)"
   ]
  },
  {
   "cell_type": "code",
   "execution_count": 200,
   "metadata": {},
   "outputs": [],
   "source": [
    "# Change types into integers\n",
    "for col in df12.columns:\n",
    "    if col != 'PLAYER':\n",
    "        df12[col] = df12[col].astype(int)"
   ]
  },
  {
   "cell_type": "code",
   "execution_count": 201,
   "metadata": {},
   "outputs": [],
   "source": [
    "#Create Fild Goal colums\n",
    "df12['FGM'] = df12['2PM'] + df12['3PM']\n",
    "df12['FGA'] = df12['2PA'] + df12['3PA']\n",
    "\n",
    "# Create percentage columns\n",
    "df12['FG%'] = df12['FGM'].div(df12['FGA'], fill_value=0).fillna(0).round(2) * 100\n",
    "df12['2P%'] = df12['2PM'].div(df12['2PA'], fill_value=0).fillna(0).round(2) * 100\n",
    "df12['3P%'] = df12['3PM'].div(df12['3PA'], fill_value=0).fillna(0).round(2) * 100\n",
    "df12['FT%'] = df12['FTM'].div(df12['FTA'], fill_value=0).fillna(0).round(2) * 100"
   ]
  },
  {
   "cell_type": "code",
   "execution_count": 202,
   "metadata": {},
   "outputs": [],
   "source": [
    "# Drop duplicated columns\n",
    "df12 = df12.loc[:, ~df12.columns.duplicated()]"
   ]
  },
  {
   "cell_type": "code",
   "execution_count": 203,
   "metadata": {},
   "outputs": [],
   "source": [
    "# Add the Team Name and the Game ID\n",
    "df12['TEAM'] = driver.find_element(By.XPATH, '/html/body/main/div/div[2]/div[3]/div/div[2]/div/div/a/h3').accessible_name\n",
    "df12['GAME'] = 'FRA5'"
   ]
  },
  {
   "cell_type": "code",
   "execution_count": 204,
   "metadata": {},
   "outputs": [],
   "source": [
    "# Reorder the Dataframe\n",
    "df12 = df12[['GAME' ,'TEAM', 'PLAYER', 'MIN', 'PTS', 'REB', 'AST', 'STL', 'BLK', 'TO', 'FO', 'FGM', 'FGA', 'FG%', '2PM', '2PA', '2P%', '3PM', '3PA', '3P%', 'FTM', 'FTA', 'FT%', 'OR', 'DR', '+/-', 'EFF']]"
   ]
  },
  {
   "cell_type": "code",
   "execution_count": 205,
   "metadata": {},
   "outputs": [],
   "source": [
    "# Import dataframe\n",
    "france_boxscores = pd.concat([df1, df2, df3, df4, df5, df6, df7, df8, df9, df10, df11, df12], ignore_index=True)\n",
    "france_boxscores.to_csv('france_boxscores.csv', index=False)"
   ]
  },
  {
   "cell_type": "code",
   "execution_count": 206,
   "metadata": {},
   "outputs": [],
   "source": [
    "# Quit WebDriver\n",
    "driver.quit()"
   ]
  }
 ],
 "metadata": {
  "kernelspec": {
   "display_name": "Python 3",
   "language": "python",
   "name": "python3"
  },
  "language_info": {
   "codemirror_mode": {
    "name": "ipython",
    "version": 3
   },
   "file_extension": ".py",
   "mimetype": "text/x-python",
   "name": "python",
   "nbconvert_exporter": "python",
   "pygments_lexer": "ipython3",
   "version": "3.11.0"
  }
 },
 "nbformat": 4,
 "nbformat_minor": 2
}
