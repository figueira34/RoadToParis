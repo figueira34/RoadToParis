{
 "cells": [
  {
   "cell_type": "code",
   "execution_count": 1,
   "metadata": {},
   "outputs": [],
   "source": [
    "import pandas as pd\n",
    "import numpy as np"
   ]
  },
  {
   "cell_type": "code",
   "execution_count": 2,
   "metadata": {},
   "outputs": [],
   "source": [
    "data = {\n",
    "    'DATE': ['02/07/2024', '04/07/2024', '06/07/2024', '07/07/2024', '22/06/2024', '23/06/2024', '05/07/2024', '07/07/2024', '19/07/2024', '03/07/2024', '06/07/2024', '08/07/2024', '12/07/2024', '19/07/2024', '21/07/2024', '13/07/2024', '22/07/2024' ],\n",
    "    'TEAM': ['Brazil', 'Cameroon', 'Brazil', 'Latvia', 'Japan', 'Australia', 'Japan', 'Japan', 'Germany', 'France', 'Germany', 'France', 'France', 'France', 'France', 'Germany', 'USA'],\n",
    "    'T SCORE': [81, 77, 71, 69, 89, 95, 84, 88, 104, 96, 66, 65, 67, 73, 82, 95, 92],\n",
    "    'OPPONENT': ['Montenegro', 'Brazil', 'Philippines', 'Brazil', 'Australia', 'Japan', 'South Korea', 'South Korea', 'Japan', 'Turkey', 'France', 'Germany', 'Serbia', 'Canada', 'Australia', 'Netherlands', 'Germany'],\n",
    "    'O SCORE': [72, 74, 60, 94, 90, 95, 84, 80, 83, 46, 90, 70, 89, 85, 83, 50, 88],\n",
    "    'TYPE': ['Qualifying', 'Qualifying', 'Qualifying', 'Qualifying', 'Preparation', 'Preparation', 'Preparation', 'Preparation', 'Preparation', 'Preparation', 'Preparation', 'Preparation', 'Preparation', 'Preparation', 'Preparation', 'Preparation', 'Preparation'],\n",
    "    'ID': ['BRA1', 'CAM1', 'BRA2', 'LAT1', 'JAP1', 'AUS1', 'JAP2', 'JAP3', 'GER1', 'FRA1', 'GER2', 'FRA2', 'FRA3', 'FRA4', 'FRA5', 'GER3', 'USA1']\n",
    "}\n",
    "\n",
    "games = pd.DataFrame(data)\n",
    "games.to_csv('games.csv', index=False)"
   ]
  }
 ],
 "metadata": {
  "kernelspec": {
   "display_name": "Python 3",
   "language": "python",
   "name": "python3"
  },
  "language_info": {
   "codemirror_mode": {
    "name": "ipython",
    "version": 3
   },
   "file_extension": ".py",
   "mimetype": "text/x-python",
   "name": "python",
   "nbconvert_exporter": "python",
   "pygments_lexer": "ipython3",
   "version": "3.11.0"
  }
 },
 "nbformat": 4,
 "nbformat_minor": 2
}
