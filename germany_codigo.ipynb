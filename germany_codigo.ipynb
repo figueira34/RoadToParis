{
 "cells": [
  {
   "cell_type": "code",
   "execution_count": 1,
   "metadata": {},
   "outputs": [],
   "source": [
    "import time\n",
    "\n",
    "import pandas as pd\n",
    "\n",
    "from selenium import webdriver\n",
    "from selenium.webdriver.chrome.service import Service\n",
    "from selenium.webdriver.common.by import By\n",
    "from selenium.webdriver.support.ui import Select, WebDriverWait\n",
    "from webdriver_manager.chrome import ChromeDriverManager"
   ]
  },
  {
   "cell_type": "code",
   "execution_count": 2,
   "metadata": {},
   "outputs": [],
   "source": [
    "# Teams\n",
    "Brazil = \"https://www.proballers.com/basketball/team/1651/brazil\"\n",
    "France = 'https://www.proballers.com/basketball/team/196/france'\n",
    "Germany = 'https://www.proballers.com/basketball/team/198/germany'\n",
    "Japan = 'https://www.proballers.com/basketball/team/1652/japan'"
   ]
  },
  {
   "cell_type": "code",
   "execution_count": 3,
   "metadata": {},
   "outputs": [],
   "source": [
    "# Setup Chrome WebDriver\n",
    "service = Service(ChromeDriverManager().install())\n",
    "driver = webdriver.Chrome(service=service)"
   ]
  },
  {
   "cell_type": "code",
   "execution_count": 4,
   "metadata": {},
   "outputs": [],
   "source": [
    "# First Team\n",
    "driver.get(Germany)"
   ]
  },
  {
   "cell_type": "code",
   "execution_count": 5,
   "metadata": {},
   "outputs": [],
   "source": [
    "# Navigate throug page\n",
    "# Schedule -> Preparation\n",
    "driver.find_element(By.XPATH, '/html/body/main/div/div[2]/div/section[2]/div/ul/li[2]/a').click()\n",
    "driver.find_element(By.XPATH, '//*[@id=\"league-Preparation-list\"]').click()"
   ]
  },
  {
   "cell_type": "code",
   "execution_count": 6,
   "metadata": {},
   "outputs": [],
   "source": [
    "# Wait\n",
    "time.sleep(5)"
   ]
  },
  {
   "cell_type": "code",
   "execution_count": 6,
   "metadata": {},
   "outputs": [],
   "source": [
    "# Game 1\n",
    "driver.find_element(By.XPATH, '//*[@id=\"league-370\"]/div[1]/div/table/tbody/tr[3]/td[4]/a').click()"
   ]
  },
  {
   "cell_type": "code",
   "execution_count": 7,
   "metadata": {},
   "outputs": [],
   "source": [
    "# Create DataFrame for first team\n",
    "table = driver.find_element(By.XPATH, '/html/body/main/div/div[2]/div[3]/div/div[1]/div/div/div/div')\n",
    "headers = [header.text for header in table.find_elements(By.TAG_NAME, 'th')]\n",
    "rows = [[cell.text for cell in row.find_elements(By.TAG_NAME, 'td')] \n",
    "            for row in table.find_elements(By.TAG_NAME, 'tr') if row.find_elements(By.TAG_NAME, 'td')]\n",
    "df1 = pd.DataFrame(rows, columns=headers)"
   ]
  },
  {
   "cell_type": "code",
   "execution_count": 8,
   "metadata": {},
   "outputs": [],
   "source": [
    "# Drop the totals\n",
    "df1.drop(df1.tail(1).index,\n",
    "        inplace = True)\n",
    "\n",
    "# Split shots made from attempted\n",
    "df1[['2PM', '2PA']] = df1['2M-2A'].str.split('-', expand=True)\n",
    "df1[['3PM', '3PA']] = df1['3M-3A'].str.split('-', expand=True)\n",
    "df1[['FTM', 'FTA']] = df1['1M-1A'].str.split('-', expand=True)\n",
    "df1.drop(columns=['2M-2A', '3M-3A', '1M-1A', 'FG%', '1%'], inplace=True)"
   ]
  },
  {
   "cell_type": "code",
   "execution_count": 9,
   "metadata": {},
   "outputs": [],
   "source": [
    "# Change types into integers\n",
    "for col in df1.columns:\n",
    "    if col != 'PLAYER':\n",
    "        df1[col] = df1[col].astype(int)"
   ]
  },
  {
   "cell_type": "code",
   "execution_count": 10,
   "metadata": {},
   "outputs": [],
   "source": [
    "#Create Fild Goal colums\n",
    "df1['FGM'] = df1['2PM'] + df1['3PM']\n",
    "df1['FGA'] = df1['2PA'] + df1['3PA']\n",
    "\n",
    "# Create percentage columns\n",
    "df1['FG%'] = df1['FGM'].div(df1['FGA'], fill_value=0).fillna(0).round(2) * 100\n",
    "df1['2P%'] = df1['2PM'].div(df1['2PA'], fill_value=0).fillna(0).round(2) * 100\n",
    "df1['3P%'] = df1['3PM'].div(df1['3PA'], fill_value=0).fillna(0).round(2) * 100\n",
    "df1['FT%'] = df1['FTM'].div(df1['FTA'], fill_value=0).fillna(0).round(2) * 100"
   ]
  },
  {
   "cell_type": "code",
   "execution_count": 11,
   "metadata": {},
   "outputs": [],
   "source": [
    "# Drop duplicated columns\n",
    "df1 = df1.loc[:, ~df1.columns.duplicated()]"
   ]
  },
  {
   "cell_type": "code",
   "execution_count": 12,
   "metadata": {},
   "outputs": [],
   "source": [
    "# Add the Team Name and the Game ID\n",
    "df1['TEAM'] = driver.find_element(By.XPATH, '/html/body/main/div/div[2]/div[3]/div/div[1]/div/div/a/h3').accessible_name\n",
    "df1['GAME'] = 'GER3'"
   ]
  },
  {
   "cell_type": "code",
   "execution_count": 13,
   "metadata": {},
   "outputs": [],
   "source": [
    "# Reorder the Dataframe\n",
    "df1 = df1[['GAME' ,'TEAM', 'PLAYER', 'MIN', 'PTS', 'REB', 'AST', 'STL', 'BLK', 'TO', 'FO', 'FGM', 'FGA', 'FG%', '2PM', '2PA', '2P%', '3PM', '3PA', '3P%', 'FTM', 'FTA', 'FT%', 'OR', 'DR', '+/-', 'EFF']]"
   ]
  },
  {
   "cell_type": "code",
   "execution_count": 14,
   "metadata": {},
   "outputs": [],
   "source": [
    "# Create DataFrame for second team\n",
    "table = driver.find_element(By.XPATH, '/html/body/main/div/div[2]/div[3]/div/div[2]/div/div/div/div')\n",
    "headers = [header.text for header in table.find_elements(By.TAG_NAME, 'th')]\n",
    "rows = [[cell.text for cell in row.find_elements(By.TAG_NAME, 'td')] \n",
    "            for row in table.find_elements(By.TAG_NAME, 'tr') if row.find_elements(By.TAG_NAME, 'td')]\n",
    "df2 = pd.DataFrame(rows, columns=headers)"
   ]
  },
  {
   "cell_type": "code",
   "execution_count": 15,
   "metadata": {},
   "outputs": [],
   "source": [
    "# Drop the totals\n",
    "df2.drop(df2.tail(1).index,\n",
    "        inplace = True)\n",
    "\n",
    "# Split shots made from attempted\n",
    "df2[['2PM', '2PA']] = df2['2M-2A'].str.split('-', expand=True)\n",
    "df2[['3PM', '3PA']] = df2['3M-3A'].str.split('-', expand=True)\n",
    "df2[['FTM', 'FTA']] = df2['1M-1A'].str.split('-', expand=True)\n",
    "df2.drop(columns=['2M-2A', '3M-3A', '1M-1A', 'FG%', '1%'], inplace=True)"
   ]
  },
  {
   "cell_type": "code",
   "execution_count": 16,
   "metadata": {},
   "outputs": [],
   "source": [
    "# Change types into integers\n",
    "for col in df2.columns:\n",
    "    if col != 'PLAYER':\n",
    "        df2[col] = df2[col].astype(int)"
   ]
  },
  {
   "cell_type": "code",
   "execution_count": 17,
   "metadata": {},
   "outputs": [],
   "source": [
    "#Create Fild Goal colums\n",
    "df2['FGM'] = df2['2PM'] + df2['3PM']\n",
    "df2['FGA'] = df2['2PA'] + df2['3PA']\n",
    "\n",
    "# Create percentage columns\n",
    "df2['FG%'] = df2['FGM'].div(df2['FGA'], fill_value=0).fillna(0).round(2) * 100\n",
    "df2['2P%'] = df2['2PM'].div(df2['2PA'], fill_value=0).fillna(0).round(2) * 100\n",
    "df2['3P%'] = df2['3PM'].div(df2['3PA'], fill_value=0).fillna(0).round(2) * 100\n",
    "df2['FT%'] = df2['FTM'].div(df2['FTA'], fill_value=0).fillna(0).round(2) * 100"
   ]
  },
  {
   "cell_type": "code",
   "execution_count": 18,
   "metadata": {},
   "outputs": [],
   "source": [
    "# Drop duplicated columns\n",
    "df2 = df2.loc[:, ~df2.columns.duplicated()]"
   ]
  },
  {
   "cell_type": "code",
   "execution_count": 19,
   "metadata": {},
   "outputs": [],
   "source": [
    "# Add the Team Name and the Game ID\n",
    "df2['TEAM'] = driver.find_element(By.XPATH, '/html/body/main/div/div[2]/div[3]/div/div[2]/div/div/a/h3').accessible_name\n",
    "df2['GAME'] = 'GER3'"
   ]
  },
  {
   "cell_type": "code",
   "execution_count": 20,
   "metadata": {},
   "outputs": [],
   "source": [
    "# Reorder the Dataframe\n",
    "df2 = df2[['GAME' ,'TEAM', 'PLAYER', 'MIN', 'PTS', 'REB', 'AST', 'STL', 'BLK', 'TO', 'FO', 'FGM', 'FGA', 'FG%', '2PM', '2PA', '2P%', '3PM', '3PA', '3P%', 'FTM', 'FTA', 'FT%', 'OR', 'DR', '+/-', 'EFF']]"
   ]
  },
  {
   "cell_type": "code",
   "execution_count": 21,
   "metadata": {},
   "outputs": [],
   "source": [
    "# Return page\n",
    "driver.back()"
   ]
  },
  {
   "cell_type": "code",
   "execution_count": 22,
   "metadata": {},
   "outputs": [],
   "source": [
    "# Navigate throug page\n",
    "# Schedule -> Preparation\n",
    "driver.find_element(By.XPATH, '//*[@id=\"league-Preparation-list\"]').click()"
   ]
  },
  {
   "cell_type": "code",
   "execution_count": 25,
   "metadata": {},
   "outputs": [],
   "source": [
    "# Wait\n",
    "time.sleep(5)"
   ]
  },
  {
   "cell_type": "code",
   "execution_count": 23,
   "metadata": {},
   "outputs": [],
   "source": [
    "# Game 2\n",
    "driver.find_element(By.XPATH, '//*[@id=\"league-370\"]/div[1]/div/table/tbody/tr[4]/td[4]/a').click()"
   ]
  },
  {
   "cell_type": "code",
   "execution_count": 24,
   "metadata": {},
   "outputs": [],
   "source": [
    "# Create DataFrame for first team\n",
    "table = driver.find_element(By.XPATH, '/html/body/main/div/div[2]/div[3]/div/div[1]/div/div/div/div')\n",
    "headers = [header.text for header in table.find_elements(By.TAG_NAME, 'th')]\n",
    "rows = [[cell.text for cell in row.find_elements(By.TAG_NAME, 'td')] \n",
    "            for row in table.find_elements(By.TAG_NAME, 'tr') if row.find_elements(By.TAG_NAME, 'td')]\n",
    "df3 = pd.DataFrame(rows, columns=headers)"
   ]
  },
  {
   "cell_type": "code",
   "execution_count": 25,
   "metadata": {},
   "outputs": [],
   "source": [
    "# Drop the totals\n",
    "df3.drop(df3.tail(1).index,\n",
    "        inplace = True)\n",
    "\n",
    "# Split shots made from attempted\n",
    "df3[['2PM', '2PA']] = df3['2M-2A'].str.split('-', expand=True)\n",
    "df3[['3PM', '3PA']] = df3['3M-3A'].str.split('-', expand=True)\n",
    "df3[['FTM', 'FTA']] = df3['1M-1A'].str.split('-', expand=True)\n",
    "df3.drop(columns=['2M-2A', '3M-3A', '1M-1A', 'FG%', '1%'], inplace=True)"
   ]
  },
  {
   "cell_type": "code",
   "execution_count": 26,
   "metadata": {},
   "outputs": [],
   "source": [
    "# Change types into integers\n",
    "for col in df3.columns:\n",
    "    if col != 'PLAYER':\n",
    "        df3[col] = df3[col].astype(int)"
   ]
  },
  {
   "cell_type": "code",
   "execution_count": 27,
   "metadata": {},
   "outputs": [],
   "source": [
    "#Create Fild Goal colums\n",
    "df3['FGM'] = df3['2PM'] + df3['3PM']\n",
    "df3['FGA'] = df3['2PA'] + df3['3PA']\n",
    "\n",
    "# Create percentage columns\n",
    "df3['FG%'] = df3['FGM'].div(df3['FGA'], fill_value=0).fillna(0).round(2) * 100\n",
    "df3['2P%'] = df3['2PM'].div(df3['2PA'], fill_value=0).fillna(0).round(2) * 100\n",
    "df3['3P%'] = df3['3PM'].div(df3['3PA'], fill_value=0).fillna(0).round(2) * 100\n",
    "df3['FT%'] = df3['FTM'].div(df3['FTA'], fill_value=0).fillna(0).round(2) * 100"
   ]
  },
  {
   "cell_type": "code",
   "execution_count": 28,
   "metadata": {},
   "outputs": [],
   "source": [
    "# Drop duplicated columns\n",
    "df3 = df3.loc[:, ~df3.columns.duplicated()]"
   ]
  },
  {
   "cell_type": "code",
   "execution_count": 29,
   "metadata": {},
   "outputs": [],
   "source": [
    "# Add the Team Name and the Game ID\n",
    "df3['TEAM'] = driver.find_element(By.XPATH, '/html/body/main/div/div[2]/div[3]/div/div[1]/div/div/a/h3').accessible_name\n",
    "df3['GAME'] = 'GER1'"
   ]
  },
  {
   "cell_type": "code",
   "execution_count": 30,
   "metadata": {},
   "outputs": [],
   "source": [
    "# Reorder the Dataframe\n",
    "df3 = df3[['GAME' ,'TEAM', 'PLAYER', 'MIN', 'PTS', 'REB', 'AST', 'STL', 'BLK', 'TO', 'FO', 'FGM', 'FGA', 'FG%', '2PM', '2PA', '2P%', '3PM', '3PA', '3P%', 'FTM', 'FTA', 'FT%', 'OR', 'DR', '+/-', 'EFF']]"
   ]
  },
  {
   "cell_type": "code",
   "execution_count": 31,
   "metadata": {},
   "outputs": [],
   "source": [
    "# Create DataFrame for second team\n",
    "table = driver.find_element(By.XPATH, '/html/body/main/div/div[2]/div[3]/div/div[2]/div/div/div/div')\n",
    "headers = [header.text for header in table.find_elements(By.TAG_NAME, 'th')]\n",
    "rows = [[cell.text for cell in row.find_elements(By.TAG_NAME, 'td')] \n",
    "            for row in table.find_elements(By.TAG_NAME, 'tr') if row.find_elements(By.TAG_NAME, 'td')]\n",
    "df4 = pd.DataFrame(rows, columns=headers)"
   ]
  },
  {
   "cell_type": "code",
   "execution_count": 32,
   "metadata": {},
   "outputs": [],
   "source": [
    "# Drop the totals\n",
    "df4.drop(df4.tail(1).index,\n",
    "        inplace = True)\n",
    "\n",
    "# Split shots made from attempted\n",
    "df4[['2PM', '2PA']] = df4['2M-2A'].str.split('-', expand=True)\n",
    "df4[['3PM', '3PA']] = df4['3M-3A'].str.split('-', expand=True)\n",
    "df4[['FTM', 'FTA']] = df4['1M-1A'].str.split('-', expand=True)\n",
    "df4.drop(columns=['2M-2A', '3M-3A', '1M-1A', 'FG%', '1%'], inplace=True)"
   ]
  },
  {
   "cell_type": "code",
   "execution_count": 33,
   "metadata": {},
   "outputs": [],
   "source": [
    "# Change types into integers\n",
    "for col in df4.columns:\n",
    "    if col != 'PLAYER':\n",
    "        df4[col] = df4[col].astype(int)"
   ]
  },
  {
   "cell_type": "code",
   "execution_count": 34,
   "metadata": {},
   "outputs": [],
   "source": [
    "#Create Fild Goal colums\n",
    "df4['FGM'] = df4['2PM'] + df4['3PM']\n",
    "df4['FGA'] = df4['2PA'] + df4['3PA']\n",
    "\n",
    "# Create percentage columns\n",
    "df4['FG%'] = df4['FGM'].div(df4['FGA'], fill_value=0).fillna(0).round(2) * 100\n",
    "df4['2P%'] = df4['2PM'].div(df4['2PA'], fill_value=0).fillna(0).round(2) * 100\n",
    "df4['3P%'] = df4['3PM'].div(df4['3PA'], fill_value=0).fillna(0).round(2) * 100\n",
    "df4['FT%'] = df4['FTM'].div(df4['FTA'], fill_value=0).fillna(0).round(2) * 100"
   ]
  },
  {
   "cell_type": "code",
   "execution_count": 35,
   "metadata": {},
   "outputs": [],
   "source": [
    "# Drop duplicated columns\n",
    "df4 = df4.loc[:, ~df4.columns.duplicated()]"
   ]
  },
  {
   "cell_type": "code",
   "execution_count": 36,
   "metadata": {},
   "outputs": [],
   "source": [
    "# Add the Team Name and the Game ID\n",
    "df4['TEAM'] = driver.find_element(By.XPATH, '/html/body/main/div/div[2]/div[3]/div/div[2]/div/div/a/h3').accessible_name\n",
    "df4['GAME'] = 'GER1'"
   ]
  },
  {
   "cell_type": "code",
   "execution_count": 37,
   "metadata": {},
   "outputs": [],
   "source": [
    "# Reorder the Dataframe\n",
    "df4 = df4[['GAME' ,'TEAM', 'PLAYER', 'MIN', 'PTS', 'REB', 'AST', 'STL', 'BLK', 'TO', 'FO', 'FGM', 'FGA', 'FG%', '2PM', '2PA', '2P%', '3PM', '3PA', '3P%', 'FTM', 'FTA', 'FT%', 'OR', 'DR', '+/-', 'EFF']]"
   ]
  },
  {
   "cell_type": "code",
   "execution_count": 38,
   "metadata": {},
   "outputs": [],
   "source": [
    "# Return page\n",
    "driver.back()"
   ]
  },
  {
   "cell_type": "code",
   "execution_count": 40,
   "metadata": {},
   "outputs": [],
   "source": [
    "# Navigate throug page\n",
    "# Schedule -> Preparation\n",
    "driver.find_element(By.XPATH, '//*[@id=\"league-Preparation-list\"]').click()"
   ]
  },
  {
   "cell_type": "code",
   "execution_count": 43,
   "metadata": {},
   "outputs": [],
   "source": [
    "# Wait\n",
    "time.sleep(5)"
   ]
  },
  {
   "cell_type": "code",
   "execution_count": 41,
   "metadata": {},
   "outputs": [],
   "source": [
    "# Game 3\n",
    "driver.find_element(By.XPATH, '//*[@id=\"league-370\"]/div[1]/div/table/tbody/tr[5]/td[4]/a').click()"
   ]
  },
  {
   "cell_type": "code",
   "execution_count": 42,
   "metadata": {},
   "outputs": [],
   "source": [
    "# Create DataFrame for first team\n",
    "table = driver.find_element(By.XPATH, '/html/body/main/div/div[2]/div[3]/div/div[1]/div/div/div/div')\n",
    "headers = [header.text for header in table.find_elements(By.TAG_NAME, 'th')]\n",
    "rows = [[cell.text for cell in row.find_elements(By.TAG_NAME, 'td')] \n",
    "            for row in table.find_elements(By.TAG_NAME, 'tr') if row.find_elements(By.TAG_NAME, 'td')]\n",
    "df5 = pd.DataFrame(rows, columns=headers)"
   ]
  },
  {
   "cell_type": "code",
   "execution_count": 43,
   "metadata": {},
   "outputs": [],
   "source": [
    "# Drop the totals\n",
    "df5.drop(df5.tail(1).index,\n",
    "        inplace = True)\n",
    "\n",
    "# Split shots made from attempted\n",
    "df5[['2PM', '2PA']] = df5['2M-2A'].str.split('-', expand=True)\n",
    "df5[['3PM', '3PA']] = df5['3M-3A'].str.split('-', expand=True)\n",
    "df5[['FTM', 'FTA']] = df5['1M-1A'].str.split('-', expand=True)\n",
    "df5.drop(columns=['2M-2A', '3M-3A', '1M-1A', 'FG%', '1%'], inplace=True)"
   ]
  },
  {
   "cell_type": "code",
   "execution_count": 44,
   "metadata": {},
   "outputs": [],
   "source": [
    "# Change types into integers\n",
    "for col in df5.columns:\n",
    "    if col != 'PLAYER':\n",
    "        df5[col] = df5[col].astype(int)"
   ]
  },
  {
   "cell_type": "code",
   "execution_count": 45,
   "metadata": {},
   "outputs": [],
   "source": [
    "#Create Fild Goal colums\n",
    "df5['FGM'] = df5['2PM'] + df5['3PM']\n",
    "df5['FGA'] = df5['2PA'] + df5['3PA']\n",
    "\n",
    "# Create percentage columns\n",
    "df5['FG%'] = df5['FGM'].div(df5['FGA'], fill_value=0).fillna(0).round(2) * 100\n",
    "df5['2P%'] = df5['2PM'].div(df5['2PA'], fill_value=0).fillna(0).round(2) * 100\n",
    "df5['3P%'] = df5['3PM'].div(df5['3PA'], fill_value=0).fillna(0).round(2) * 100\n",
    "df5['FT%'] = df5['FTM'].div(df5['FTA'], fill_value=0).fillna(0).round(2) * 100"
   ]
  },
  {
   "cell_type": "code",
   "execution_count": 46,
   "metadata": {},
   "outputs": [],
   "source": [
    "# Drop duplicated columns\n",
    "df5 = df5.loc[:, ~df5.columns.duplicated()]"
   ]
  },
  {
   "cell_type": "code",
   "execution_count": 47,
   "metadata": {},
   "outputs": [],
   "source": [
    "# Add the Team Name and the Game ID\n",
    "df5['TEAM'] = driver.find_element(By.XPATH, '/html/body/main/div/div[2]/div[3]/div/div[1]/div/div/a/h3').accessible_name\n",
    "df5['GAME'] = 'USA1'"
   ]
  },
  {
   "cell_type": "code",
   "execution_count": 48,
   "metadata": {},
   "outputs": [],
   "source": [
    "# Reorder the Dataframe\n",
    "df5 = df5[['GAME' ,'TEAM', 'PLAYER', 'MIN', 'PTS', 'REB', 'AST', 'STL', 'BLK', 'TO', 'FO', 'FGM', 'FGA', 'FG%', '2PM', '2PA', '2P%', '3PM', '3PA', '3P%', 'FTM', 'FTA', 'FT%', 'OR', 'DR', '+/-', 'EFF']]"
   ]
  },
  {
   "cell_type": "code",
   "execution_count": 49,
   "metadata": {},
   "outputs": [],
   "source": [
    "# Create DataFrame for second team\n",
    "table = driver.find_element(By.XPATH, '/html/body/main/div/div[2]/div[3]/div/div[2]/div/div/div/div')\n",
    "headers = [header.text for header in table.find_elements(By.TAG_NAME, 'th')]\n",
    "rows = [[cell.text for cell in row.find_elements(By.TAG_NAME, 'td')] \n",
    "            for row in table.find_elements(By.TAG_NAME, 'tr') if row.find_elements(By.TAG_NAME, 'td')]\n",
    "df6 = pd.DataFrame(rows, columns=headers)"
   ]
  },
  {
   "cell_type": "code",
   "execution_count": 50,
   "metadata": {},
   "outputs": [],
   "source": [
    "# Drop the totals\n",
    "df6.drop(df6.tail(1).index,\n",
    "        inplace = True)\n",
    "\n",
    "# Split shots made from attempted\n",
    "df6[['2PM', '2PA']] = df6['2M-2A'].str.split('-', expand=True)\n",
    "df6[['3PM', '3PA']] = df6['3M-3A'].str.split('-', expand=True)\n",
    "df6[['FTM', 'FTA']] = df6['1M-1A'].str.split('-', expand=True)\n",
    "df6.drop(columns=['2M-2A', '3M-3A', '1M-1A', 'FG%', '1%'], inplace=True)"
   ]
  },
  {
   "cell_type": "code",
   "execution_count": 51,
   "metadata": {},
   "outputs": [],
   "source": [
    "# Change types into integers\n",
    "for col in df6.columns:\n",
    "    if col != 'PLAYER':\n",
    "        df6[col] = df6[col].astype(int)"
   ]
  },
  {
   "cell_type": "code",
   "execution_count": 52,
   "metadata": {},
   "outputs": [],
   "source": [
    "#Create Fild Goal colums\n",
    "df6['FGM'] = df6['2PM'] + df6['3PM']\n",
    "df6['FGA'] = df6['2PA'] + df6['3PA']\n",
    "\n",
    "# Create percentage columns\n",
    "df6['FG%'] = df6['FGM'].div(df6['FGA'], fill_value=0).fillna(0).round(2) * 100\n",
    "df6['2P%'] = df6['2PM'].div(df6['2PA'], fill_value=0).fillna(0).round(2) * 100\n",
    "df6['3P%'] = df6['3PM'].div(df6['3PA'], fill_value=0).fillna(0).round(2) * 100\n",
    "df6['FT%'] = df6['FTM'].div(df6['FTA'], fill_value=0).fillna(0).round(2) * 100"
   ]
  },
  {
   "cell_type": "code",
   "execution_count": 53,
   "metadata": {},
   "outputs": [],
   "source": [
    "# Drop duplicated columns\n",
    "df6 = df6.loc[:, ~df6.columns.duplicated()]"
   ]
  },
  {
   "cell_type": "code",
   "execution_count": 54,
   "metadata": {},
   "outputs": [],
   "source": [
    "# Add the Team Name and the Game ID\n",
    "df6['TEAM'] = driver.find_element(By.XPATH, '/html/body/main/div/div[2]/div[3]/div/div[2]/div/div/a/h3').accessible_name\n",
    "df6['GAME'] = 'USA1'"
   ]
  },
  {
   "cell_type": "code",
   "execution_count": 55,
   "metadata": {},
   "outputs": [],
   "source": [
    "# Reorder the Dataframe\n",
    "df6 = df6[['GAME' ,'TEAM', 'PLAYER', 'MIN', 'PTS', 'REB', 'AST', 'STL', 'BLK', 'TO', 'FO', 'FGM', 'FGA', 'FG%', '2PM', '2PA', '2P%', '3PM', '3PA', '3P%', 'FTM', 'FTA', 'FT%', 'OR', 'DR', '+/-', 'EFF']]"
   ]
  },
  {
   "cell_type": "code",
   "execution_count": 56,
   "metadata": {},
   "outputs": [],
   "source": [
    "# Import dataframe\n",
    "germany_boxscores = pd.concat([df1, df2, df3, df4, df5, df6], ignore_index=True)\n",
    "germany_boxscores.to_csv('germany_boxscores.csv', index=False)"
   ]
  },
  {
   "cell_type": "code",
   "execution_count": 57,
   "metadata": {},
   "outputs": [],
   "source": [
    "# Quit WebDriver\n",
    "driver.quit()"
   ]
  }
 ],
 "metadata": {
  "kernelspec": {
   "display_name": "Python 3",
   "language": "python",
   "name": "python3"
  },
  "language_info": {
   "codemirror_mode": {
    "name": "ipython",
    "version": 3
   },
   "file_extension": ".py",
   "mimetype": "text/x-python",
   "name": "python",
   "nbconvert_exporter": "python",
   "pygments_lexer": "ipython3",
   "version": "3.11.0"
  }
 },
 "nbformat": 4,
 "nbformat_minor": 2
}
